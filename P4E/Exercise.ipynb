{
 "cells": [
  {
   "cell_type": "markdown",
   "metadata": {},
   "source": [
    "# Chapter 2: input(), print()"
   ]
  },
  {
   "cell_type": "code",
   "execution_count": 4,
   "metadata": {},
   "outputs": [
    {
     "name": "stdout",
     "output_type": "stream",
     "text": [
      "Hours:35\n",
      "Rate:2.75\n",
      "Pay:  96.25\n"
     ]
    }
   ],
   "source": [
    "hours = input('Hours:')\n",
    "rates = input('Rate:')\n",
    "\n",
    "print('Pay: ', float(hours)*float(rates))"
   ]
  },
  {
   "cell_type": "markdown",
   "metadata": {},
   "source": [
    "# Chapter 3: if, else, try, except"
   ]
  },
  {
   "cell_type": "code",
   "execution_count": 21,
   "metadata": {},
   "outputs": [
    {
     "name": "stdout",
     "output_type": "stream",
     "text": [
      "Hours:45\n",
      "Rate:10\n",
      "Pay:  475.0\n"
     ]
    }
   ],
   "source": [
    "hours = input('Hours:')\n",
    "rates = input('Rate:')\n",
    "\n",
    "hours = float(hours)\n",
    "rates = float(rates)\n",
    "\n",
    "if int(hours) > 40:\n",
    "    print('Pay: ', (hours-40)*1.5*rates + 40*rates)\n",
    "else:\n",
    "    print('Pay: ', hours*rates)"
   ]
  },
  {
   "cell_type": "code",
   "execution_count": 28,
   "metadata": {},
   "outputs": [
    {
     "name": "stdout",
     "output_type": "stream",
     "text": [
      "Hours:1\n",
      "Rate:d\n",
      "Error, please enter numeric input\n"
     ]
    }
   ],
   "source": [
    "hours = input('Hours:')\n",
    "try:\n",
    "    hours = float(hours)\n",
    "    \n",
    "    rates = input('Rate:')\n",
    "    try:\n",
    "        rates = float(rates)\n",
    "        \n",
    "        if int(hours) > 40:\n",
    "             print('Pay: ', (hours-40)*1.5*rates + 40*rates)\n",
    "        else:\n",
    "            print('Pay: ', hours*rates)\n",
    "    except:\n",
    "        print('Error, please enter numeric input')        \n",
    "except:\n",
    "    print('Error, please enter numeric input')"
   ]
  },
  {
   "cell_type": "markdown",
   "metadata": {},
   "source": [
    "# Chapter 4: def"
   ]
  },
  {
   "cell_type": "code",
   "execution_count": 40,
   "metadata": {},
   "outputs": [],
   "source": [
    "def computepay(hours, rates):\n",
    "    try:\n",
    "        hours = float(hours)\n",
    "        rates = float(rates)\n",
    "        \n",
    "        if int(hours) > 40:\n",
    "            return (hours-40)*1.5*rates + 40*rates\n",
    "        else:\n",
    "            return hours*rates\n",
    "    except:\n",
    "        print('Error, please enter numeric input')"
   ]
  },
  {
   "cell_type": "code",
   "execution_count": 42,
   "metadata": {},
   "outputs": [
    {
     "name": "stdout",
     "output_type": "stream",
     "text": [
      "Hours:40\n",
      "Rates:10\n",
      "400.0\n"
     ]
    }
   ],
   "source": [
    "hours = input('Hours:')\n",
    "rates = input('Rates:')\n",
    "\n",
    "pay = computepay(hours, rates)\n",
    "\n",
    "print('Pay: ', pay)"
   ]
  },
  {
   "cell_type": "markdown",
   "metadata": {},
   "source": [
    "# Chapter 5"
   ]
  },
  {
   "cell_type": "markdown",
   "metadata": {},
   "source": [
    "# Chapter 6: string"
   ]
  },
  {
   "cell_type": "code",
   "execution_count": 4,
   "metadata": {
    "scrolled": true
   },
   "outputs": [
    {
     "name": "stdout",
     "output_type": "stream",
     "text": [
      "Mo\n",
      "Python\n",
      "M\n",
      "o\n",
      "n\n",
      "t\n",
      "y\n",
      " \n",
      "P\n",
      "y\n",
      "t\n",
      "h\n",
      "o\n",
      "n\n"
     ]
    }
   ],
   "source": [
    "s = 'Monty Python'\n",
    "print(s[:2])\n",
    "print(s[6:])\n",
    "\n",
    "for char in s:\n",
    "    print(char)"
   ]
  },
  {
   "cell_type": "code",
   "execution_count": 8,
   "metadata": {},
   "outputs": [
    {
     "name": "stdout",
     "output_type": "stream",
     "text": [
      "True\n",
      "False\n",
      "True\n"
     ]
    }
   ],
   "source": [
    "fruit = 'banana'\n",
    "print('n' in fruit) # ismember 함수 같은 역할\n",
    "print('m' in fruit)\n",
    "print('nan' in fruit)"
   ]
  },
  {
   "cell_type": "code",
   "execution_count": 9,
   "metadata": {},
   "outputs": [
    {
     "name": "stdout",
     "output_type": "stream",
     "text": [
      "21\n",
      "31\n",
      "uct.ac.za\n"
     ]
    }
   ],
   "source": [
    "data = 'From stephen.marquard@uct.ac.za Sat Jan  5 09:14:16 2008'\n",
    "\n",
    "atpos = data.find('@')\n",
    "print(atpos)\n",
    "\n",
    "sppos = data.find(' ', atpos)\n",
    "print(sppos)\n",
    "\n",
    "host = data[atpos+1 : sppos]\n",
    "print(host)"
   ]
  },
  {
   "cell_type": "code",
   "execution_count": 20,
   "metadata": {},
   "outputs": [
    {
     "name": "stdout",
     "output_type": "stream",
     "text": [
      "0.8475\n"
     ]
    }
   ],
   "source": [
    "# Exercis\n",
    "str = 'X-DSPAM-Confidencce: 0.8475'\n",
    "\n",
    "colpos = str.find(':')\n",
    "print(float(str[colpos+1:]))"
   ]
  },
  {
   "cell_type": "markdown",
   "metadata": {},
   "source": [
    "# Chapter 7: file open"
   ]
  },
  {
   "cell_type": "code",
   "execution_count": 39,
   "metadata": {},
   "outputs": [
    {
     "name": "stdout",
     "output_type": "stream",
     "text": [
      "From stephen.marquard@uct.ac.za Sat Jan  5 09:14:16 2008\n",
      "Return-Path: <postmaster@collab.sakaiproject.org>\n",
      "Date: Sat, 5 Jan 2008 09:12:18 -0500\n",
      "To: source@collab.sakaiproject.org\n",
      "From: stephen.marquard@uct.ac.za\n",
      "Subject: [sakai] svn commit: r39772 - content/branches/\n",
      "\n",
      "Details: http://source.sakaiproject.org/viewsvn/?view=rev&rev=39772\n",
      "total line: 8\n"
     ]
    }
   ],
   "source": [
    "fhand = open('./data/ch7.txt')\n",
    "\n",
    "count = 0\n",
    "for line in fhand:\n",
    "    count = count + 1\n",
    "    print(line.rstrip())\n",
    "\n",
    "print('total line:', count)"
   ]
  },
  {
   "cell_type": "code",
   "execution_count": 43,
   "metadata": {},
   "outputs": [
    {
     "name": "stdout",
     "output_type": "stream",
     "text": [
      "---\n",
      "From stephen.marquard@uct.ac.za Sat Jan  5 09:14:16 2008\n",
      "Date: Sat, 5 Jan 2008 09:12:18 -0500\n",
      "---\n",
      "From: stephen.marquard@uct.ac.za\n",
      "Subject: [sakai] svn commit: r39772 - content/branches/\n",
      "\n",
      "total line: 8\n"
     ]
    }
   ],
   "source": [
    "fhand = open('./data/ch7.txt')\n",
    "\n",
    "count = 0\n",
    "for line in fhand:\n",
    "    count = count + 1\n",
    "    \n",
    "    if line.startswith('From'):\n",
    "        print('---')\n",
    "    \n",
    "    if 'sakaiproject' in line:\n",
    "        continue\n",
    "    print(line.rstrip())\n",
    "\n",
    "print('total line:', count)"
   ]
  },
  {
   "cell_type": "code",
   "execution_count": 44,
   "metadata": {},
   "outputs": [
    {
     "name": "stdout",
     "output_type": "stream",
     "text": [
      "FROM: STEPHEN.MARQUARD@UCT.AC.ZA SAT JAN  5 09:14:16 2008\n",
      "RETURN-PATH: <POSTMASTER@COLLAB.SAKAIPROJECT.ORG>\n",
      "DATE: SAT, 5 JAN 2008 09:12:18 -0500\n",
      "TO: SOURCE@COLLAB.SAKAIPROJECT.ORG\n",
      "FROM: STEPHEN.MARQUARD@UCT.AC.ZA\n",
      "SUBJECT: [SAKAI] SVN COMMIT: R39772 - CONTENT/BRANCHES/\n",
      "\n",
      "DETAILS: HTTP://SOURCE.SAKAIPROJECT.ORG/VIEWSVN/?VIEW=REV&REV=39772\n"
     ]
    }
   ],
   "source": [
    "# exercise\n",
    "fh = open('./data/ch7.txt')\n",
    "\n",
    "for lx in fh:\n",
    "    ly = lx.rstrip()\n",
    "    print(ly.upper())"
   ]
  },
  {
   "cell_type": "markdown",
   "metadata": {},
   "source": [
    "# Chapter 8: list"
   ]
  },
  {
   "cell_type": "code",
   "execution_count": 99,
   "metadata": {},
   "outputs": [
    {
     "name": "stdout",
     "output_type": "stream",
     "text": [
      "[1, 2, 3, 4, 5, 6]\n",
      "[2, 3, 4, 5]\n"
     ]
    }
   ],
   "source": [
    "# 앞뒤 자르고 none return 하는 chop 함수와 새로운 리스트를 return 하는 middle 함수 만들기\n",
    "def chop(dat):\n",
    "    dat = dat[1:-1]\n",
    "    return None\n",
    "\n",
    "def middle(dat):\n",
    "    dat = dat[1:-1]\n",
    "    return dat\n",
    "\n",
    "dat = [1, 2, 3, 4, 5, 6]\n",
    "\n",
    "chop(dat)\n",
    "print(dat)\n",
    "\n",
    "dat = middle(dat)\n",
    "print(dat)"
   ]
  },
  {
   "cell_type": "code",
   "execution_count": 49,
   "metadata": {},
   "outputs": [
    {
     "name": "stdout",
     "output_type": "stream",
     "text": [
      "['Arise', 'But', 'It', 'Juliet', 'Who', 'already', 'and', 'and', 'and', 'breaks', 'east', 'envious', 'fair', 'grief', 'is', 'is', 'is', 'kill', 'light', 'moon', 'pale', 'sick', 'soft', 'sun', 'sun', 'the', 'the', 'the', 'through', 'what', 'window', 'with', 'yonder']\n"
     ]
    }
   ],
   "source": [
    "# 파일 읽고 워드로 쪼갠 뒤, 알파벳 순으로 정렬하기\n",
    "fhand = open('./data/romeo.txt')\n",
    "\n",
    "full_words = list()\n",
    "for line in fhand:\n",
    "    words = line.split()\n",
    "    full_words = full_words + words\n",
    "#    print(words)\n",
    "#    print(line.rstrip())\n",
    "\n",
    "full_words.sort()\n",
    "print(full_words)"
   ]
  },
  {
   "cell_type": "code",
   "execution_count": 72,
   "metadata": {
    "scrolled": true
   },
   "outputs": [
    {
     "name": "stdout",
     "output_type": "stream",
     "text": [
      "stephen.marquard@uct.ac.za\n",
      "louis@media.berkeley.edu\n",
      "zqian@umich.edu\n",
      "rjlowe@iupui.edu\n",
      "zqian@umich.edu\n",
      "rjlowe@iupui.edu\n",
      "cwen@iupui.edu\n",
      "cwen@iupui.edu\n",
      "gsilver@umich.edu\n",
      "gsilver@umich.edu\n",
      "zqian@umich.edu\n",
      "gsilver@umich.edu\n",
      "wagnermr@iupui.edu\n",
      "zqian@umich.edu\n",
      "antranig@caret.cam.ac.uk\n",
      "gopal.ramasammycook@gmail.com\n",
      "david.horwitz@uct.ac.za\n",
      "david.horwitz@uct.ac.za\n",
      "david.horwitz@uct.ac.za\n",
      "david.horwitz@uct.ac.za\n",
      "stephen.marquard@uct.ac.za\n",
      "louis@media.berkeley.edu\n",
      "louis@media.berkeley.edu\n",
      "ray@media.berkeley.edu\n",
      "cwen@iupui.edu\n",
      "cwen@iupui.edu\n",
      "cwen@iupui.edu\n",
      "There were  27  lines in ther file with From as the first word\n"
     ]
    }
   ],
   "source": [
    "# 이메일 속 발신자 파싱하기\n",
    "fhand = open('./data/mbox-short.txt')\n",
    "\n",
    "cnt = 0\n",
    "for line in fhand:\n",
    "    if line.startswith('From'):\n",
    "        words = line.split()\n",
    "        if words[0] == 'From:':\n",
    "            continue\n",
    "            \n",
    "        email = words[1]\n",
    "        print(email)\n",
    "        cnt = cnt + 1\n",
    "print('There were ', cnt, ' lines in ther file with From as the first word')"
   ]
  },
  {
   "cell_type": "code",
   "execution_count": 81,
   "metadata": {},
   "outputs": [
    {
     "name": "stdout",
     "output_type": "stream",
     "text": [
      "Enter a number: 3\n",
      "3\n",
      "Enter a number: 2\n",
      "2\n",
      "Enter a number: done\n",
      "Maximum:  3\n",
      "Minimum:  2\n"
     ]
    }
   ],
   "source": [
    "# 계속 숫자 입력받다가 done 입력하면 max, min 출력하기\n",
    "dat_list = list()\n",
    "while True:\n",
    "    dat = input('Enter a number: ')\n",
    "    \n",
    "    if dat == 'done':\n",
    "        break\n",
    "    \n",
    "    dat_list.append(int(dat))\n",
    "    \n",
    "    print(int(dat))\n",
    "print('Maximum: ', max(dat_list))\n",
    "print('Minimum: ', min(dat_list))"
   ]
  },
  {
   "cell_type": "markdown",
   "metadata": {},
   "source": [
    "# Chapter 9: Dictionaries"
   ]
  },
  {
   "cell_type": "code",
   "execution_count": 102,
   "metadata": {},
   "outputs": [
    {
     "name": "stdout",
     "output_type": "stream",
     "text": [
      "{'csev': 2, 'cwen': 2, 'zqian': 1}\n"
     ]
    }
   ],
   "source": [
    "# 단어 숫자 세기\n",
    "counts = dict()\n",
    "names = ['csev', 'cwen', 'csev', 'zqian', 'cwen']\n",
    "\n",
    "for name in names:\n",
    "    if name not in counts:\n",
    "        counts[name] = 1\n",
    "    else:\n",
    "        counts[name] = counts[name] + 1\n",
    "\n",
    "print(counts)"
   ]
  },
  {
   "cell_type": "code",
   "execution_count": 103,
   "metadata": {},
   "outputs": [
    {
     "name": "stdout",
     "output_type": "stream",
     "text": [
      "{'csev': 2, 'cwen': 2, 'zqian': 1}\n"
     ]
    }
   ],
   "source": [
    "# 간소화된 단어 숫자 세기 - get() 메소드 이용\n",
    "\n",
    "\n",
    "counts = dict()\n",
    "names = ['csev', 'cwen', 'csev', 'zqian', 'cwen']\n",
    "\n",
    "for name in names:\n",
    "    counts[name] = counts.get(name, 0) + 1\n",
    "    \n",
    "print(counts)"
   ]
  },
  {
   "cell_type": "code",
   "execution_count": 105,
   "metadata": {},
   "outputs": [
    {
     "name": "stdout",
     "output_type": "stream",
     "text": [
      "dict_keys(['csev', 'cwen', 'zqian'])\n",
      "dict_values([2, 2, 1])\n",
      "dict_items([('csev', 2), ('cwen', 2), ('zqian', 1)])\n"
     ]
    }
   ],
   "source": [
    "print(counts.keys())\n",
    "print(counts.values())\n",
    "print(counts.items())\n"
   ]
  },
  {
   "cell_type": "code",
   "execution_count": 106,
   "metadata": {},
   "outputs": [
    {
     "name": "stdout",
     "output_type": "stream",
     "text": [
      "csev 2\n",
      "cwen 2\n",
      "zqian 1\n"
     ]
    }
   ],
   "source": [
    "# dictionary를 이용한 두 개의 반복 변수 사용\n",
    "for a,b in counts.items():\n",
    "    print(a,b)"
   ]
  },
  {
   "cell_type": "code",
   "execution_count": 113,
   "metadata": {},
   "outputs": [
    {
     "name": "stdout",
     "output_type": "stream",
     "text": [
      "to 7\n"
     ]
    }
   ],
   "source": [
    "line = 'Writing programs (or programming) is a very creative and rewarding activity.  You can write programs for many reasons ranging from making your living to solving a difficult data analysis problem to having fun to helping someone else solve a problem.  This book assumes that everyone needs to know how to program and that once you know how to program, you will figure out what you want to do with your newfound skills.'\n",
    "\n",
    "words = line.split()\n",
    "\n",
    "counts = dict()\n",
    "for word in words:\n",
    "    counts[word] = counts.get(word, 0) + 1\n",
    "\n",
    "bigWord = None\n",
    "bigCount = None\n",
    "for word, count in counts.items():\n",
    "    if bigCount is None or count > bigCount:\n",
    "        bigWord = word\n",
    "        bigCount = count\n",
    "\n",
    "print(bigWord, bigCount)\n",
    "       "
   ]
  },
  {
   "cell_type": "code",
   "execution_count": 123,
   "metadata": {},
   "outputs": [
    {
     "name": "stdout",
     "output_type": "stream",
     "text": [
      "{'Sat': 1, 'Fri': 20, 'Thu': 6}\n"
     ]
    }
   ],
   "source": [
    "# 이메일 속 요일 count 하기\n",
    "fhand = open('./data/mbox-short.txt')\n",
    "\n",
    "days = dict()\n",
    "for line in fhand:\n",
    "    if line.startswith('From '):\n",
    "        day = line.split()[2]\n",
    "        days[day] = days.get(day, 0) + 1\n",
    "        \n",
    "print(days)"
   ]
  },
  {
   "cell_type": "code",
   "execution_count": 118,
   "metadata": {},
   "outputs": [
    {
     "name": "stdout",
     "output_type": "stream",
     "text": [
      "{'stephen.marquard@uct.ac.za': 2, 'louis@media.berkeley.edu': 3, 'zqian@umich.edu': 4, 'rjlowe@iupui.edu': 2, 'cwen@iupui.edu': 5, 'gsilver@umich.edu': 3, 'wagnermr@iupui.edu': 1, 'antranig@caret.cam.ac.uk': 1, 'gopal.ramasammycook@gmail.com': 1, 'david.horwitz@uct.ac.za': 4, 'ray@media.berkeley.edu': 1}\n"
     ]
    }
   ],
   "source": [
    "# 이메일 속 발신인 count 하기\n",
    "fhand = open('./data/mbox-short.txt')\n",
    "\n",
    "emails = dict()\n",
    "for line in fhand:\n",
    "    if line.startswith('From '):\n",
    "        email = line.split()[1]\n",
    "        emails[email] = emails.get(email, 0) + 1\n",
    "        \n",
    "print(emails)"
   ]
  },
  {
   "cell_type": "code",
   "execution_count": 126,
   "metadata": {},
   "outputs": [
    {
     "name": "stdout",
     "output_type": "stream",
     "text": [
      "{'uct.ac.za': 6, 'media.berkeley.edu': 4, 'umich.edu': 7, 'iupui.edu': 8, 'caret.cam.ac.uk': 1, 'gmail.com': 1}\n"
     ]
    }
   ],
   "source": [
    "# 이메일 속 도메인 count 하기\n",
    "fhand = open('./data/mbox-short.txt')\n",
    "\n",
    "domains = dict()\n",
    "for line in fhand:\n",
    "    if line.startswith('From '):\n",
    "        email = line.split()[1]\n",
    "        domain = email.split('@')[1]\n",
    "        domains[domain] = domains.get(domain, 0) + 1\n",
    "        \n",
    "print(domains)"
   ]
  },
  {
   "cell_type": "markdown",
   "metadata": {},
   "source": [
    "# Chapter 10: Tuples"
   ]
  },
  {
   "cell_type": "code",
   "execution_count": 131,
   "metadata": {},
   "outputs": [
    {
     "name": "stdout",
     "output_type": "stream",
     "text": [
      "the 3\n",
      "is 3\n",
      "and 3\n",
      "sun 2\n",
      "yonder 1\n",
      "with 1\n",
      "window 1\n",
      "what 1\n",
      "through 1\n",
      "soft 1\n"
     ]
    }
   ],
   "source": [
    "# 가장 많이 쓰인 단어 10개 찾기: tuple로 저장한 뒤 list로 바꾸어 sort\n",
    "fhand = open('./data/romeo.txt')\n",
    "counts = {}\n",
    "for line in fhand:\n",
    "    words = line.split()\n",
    "    for word in words:\n",
    "        counts[word] = counts.get(word, 0) + 1\n",
    "        \n",
    "lst = []\n",
    "for key, val in counts.items():\n",
    "    newtup = (val, key)\n",
    "    lst.append(newtup)\n",
    "    \n",
    "lst = sorted(lst, reverse=True)\n",
    "for val, key in lst[:10]:\n",
    "    print(key, val)"
   ]
  },
  {
   "cell_type": "code",
   "execution_count": 134,
   "metadata": {},
   "outputs": [
    {
     "name": "stdout",
     "output_type": "stream",
     "text": [
      "[(3, 'the'), (3, 'is'), (3, 'and'), (2, 'sun'), (1, 'yonder'), (1, 'with'), (1, 'window'), (1, 'what'), (1, 'through'), (1, 'soft'), (1, 'sick'), (1, 'pale'), (1, 'moon'), (1, 'light'), (1, 'kill'), (1, 'grief'), (1, 'fair'), (1, 'envious'), (1, 'east'), (1, 'breaks'), (1, 'already'), (1, 'Who'), (1, 'Juliet'), (1, 'It'), (1, 'But'), (1, 'Arise')]\n"
     ]
    }
   ],
   "source": [
    "# 더 짧게 해보자\n",
    "print(sorted([ (v, k) for k, v in counts.items()], reverse=True))"
   ]
  },
  {
   "cell_type": "code",
   "execution_count": 149,
   "metadata": {},
   "outputs": [
    {
     "name": "stdout",
     "output_type": "stream",
     "text": [
      "cwen@iupui.edu 5\n"
     ]
    }
   ],
   "source": [
    "# 파일 속 이메일을 파싱하고, 가장 많이 나온 이메일 한 개 출력하기\n",
    "fhand = open('./data/mbox-short.txt')\n",
    "\n",
    "emails = dict()\n",
    "for line in fhand:\n",
    "    if line.startswith('From '):\n",
    "        email = line.split()[1]\n",
    "        emails[email] = emails.get(email, 0) + 1\n",
    "    \n",
    "email_lst = []\n",
    "for email, cnt in emails.items():\n",
    "    newtup = (cnt, email)\n",
    "    email_lst.append(newtup)\n",
    "    \n",
    "email_lst = sorted(email_lst, reverse=True)\n",
    "\n",
    "for cnt, email in email_lst[:1]:\n",
    "    print(email, cnt)"
   ]
  },
  {
   "cell_type": "code",
   "execution_count": 175,
   "metadata": {},
   "outputs": [
    {
     "name": "stdout",
     "output_type": "stream",
     "text": [
      "{'09': 2, '18': 1, '16': 4, '15': 2, '14': 1, '11': 6, '10': 3, '07': 1, '06': 1, '04': 3, '19': 1, '17': 2}\n",
      "04 3\n",
      "06 1\n",
      "07 1\n",
      "09 2\n",
      "10 3\n",
      "11 6\n",
      "14 1\n",
      "15 2\n",
      "16 4\n",
      "17 2\n",
      "18 1\n",
      "19 1\n"
     ]
    }
   ],
   "source": [
    "# 파일 속 메일 보낸 시간 (hour)를 파싱하고, 시간별 카운트 한 후, 시간순으로 정렬해서 출력\n",
    "fhand = open('./data/mbox-short.txt')\n",
    "\n",
    "hours = dict()\n",
    "for line in fhand:\n",
    "    if line.startswith('From '):\n",
    "        date = line.split()[5]\n",
    "        hour = date.split(':')[0]\n",
    "        \n",
    "        hours[hour] = hours.get(hour, 0) + 1\n",
    "\n",
    "print(hours)\n",
    "\n",
    "lst = []\n",
    "for hour, cnt in hours.items():\n",
    "    newtup = (hour, cnt)\n",
    "    lst.append(newtup)\n",
    "    \n",
    "lst_sorted = sorted(lst, reverse=False)\n",
    "for hour, cnt in lst_sorted:\n",
    "    print(hour, cnt)"
   ]
  }
 ],
 "metadata": {
  "kernelspec": {
   "display_name": "Python 3",
   "language": "python",
   "name": "python3"
  },
  "language_info": {
   "codemirror_mode": {
    "name": "ipython",
    "version": 3
   },
   "file_extension": ".py",
   "mimetype": "text/x-python",
   "name": "python",
   "nbconvert_exporter": "python",
   "pygments_lexer": "ipython3",
   "version": "3.6.3"
  }
 },
 "nbformat": 4,
 "nbformat_minor": 2
}
